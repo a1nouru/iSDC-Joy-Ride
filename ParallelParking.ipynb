{
 "cells": [
  {
   "cell_type": "markdown",
   "metadata": {},
   "source": [
    "# Joy Ride - Part 3: Parallel Parking\n",
    "In this section you will write a function that implements the correct sequence of steps required to parallel park a vehicle.\n",
    "\n",
    "**Note** for this segment the vehicle's maximum speed has been set to just over 4 mph. This should make parking a little easier.\n",
    "\n",
    "![](https://upload.wikimedia.org/wikipedia/commons/2/26/ParallelParkingAnimation.gif)"
   ]
  },
  {
   "cell_type": "code",
   "execution_count": 1,
   "metadata": {
    "scrolled": true
   },
   "outputs": [
    {
     "data": {
      "text/html": [
       "<link rel=\"stylesheet\" type=\"text/css\" href=\"buttonStyle.css\">\n",
       "<button id=\"launcher\">Launch Car Simulator</button>\n",
       "<button id=\"restart\">Restart Connection</button>\n",
       "<script src=\"setupLauncher.js\"></script>\n",
       "<script src=\"kernelRestart.js\"></script>"
      ],
      "text/plain": [
       "<IPython.core.display.HTML object>"
      ]
     },
     "metadata": {},
     "output_type": "display_data"
    }
   ],
   "source": [
    "%%HTML\n",
    "<link rel=\"stylesheet\" type=\"text/css\" href=\"buttonStyle.css\">\n",
    "<button id=\"launcher\">Launch Car Simulator</button>\n",
    "<button id=\"restart\">Restart Connection</button>\n",
    "<script src=\"setupLauncher.js\"></script>\n",
    "<script src=\"kernelRestart.js\"></script>"
   ]
  },
  {
   "cell_type": "code",
   "execution_count": null,
   "metadata": {},
   "outputs": [
    {
     "name": "stdout",
     "output_type": "stream",
     "text": [
      "running\n",
      "CONNECTED\n",
      "('172.18.0.1', 51262) connected\n",
      "CONNECTED\n",
      "('172.18.0.1', 51268) connected\n",
      "CONNECTED\n",
      "('172.18.0.1', 51276) connected\n",
      "CONNECTED\n",
      "('172.18.0.1', 51280) connected\n",
      "CONNECTED\n",
      "('172.18.0.1', 51284) connected\n",
      "CONNECTED\n",
      "('172.18.0.1', 51296) connected\n",
      "('172.18.0.1', 51262) closed\n",
      "('172.18.0.1', 51268) closed\n",
      "('172.18.0.1', 51284) closed\n",
      "('172.18.0.1', 51296) closed\n",
      "('172.18.0.1', 51280) closed\n",
      "('172.18.0.1', 51276) closed\n"
     ]
    }
   ],
   "source": [
    "# After running any code changes make sure to click the button \"Restart Connection\" above first.\n",
    "# Also make sure to click Reset in the simulator to refresh the connection.\n",
    "\n",
    "car_parameters = {\"throttle\": 0, \"steer\": 0, \"brake\": 0}\n",
    "\n",
    "def control(pos_x, pos_y, time, velocity):\n",
    "    \"\"\" Controls the simulated car\"\"\"\n",
    "    global car_parameters\n",
    "    \n",
    "    \n",
    "    # TODO: Use WASD keys in simulator to gain an intuitive feel of parallel parking.\n",
    "    # Pay close attention to the time, position, and velocity in the simulator.\n",
    "    \n",
    "    # TODO: Use this information to make decisions about how to set your car parameters\n",
    "    \n",
    "    # In this example the car will drive forward for three seconds\n",
    "    # and then backs up until its y_pos is less than 32 then comes to a stop by braking\n",
    "    if(time < 1):\n",
    "        car_parameters[\"throttle\"] = 1.0\n",
    "        car_parameters[\"steer\"] = 0\n",
    "        car_parameters[\"brake\"] = 0\n",
    "    elif(pos_y > 37):\n",
    "        car_parameters[\"throttle\"] = -1.0\n",
    "        car_parameters[\"steer\"] = 5\n",
    "        car_parameters[\"brake\"] = 0\n",
    "    elif(pos_y > 34):\n",
    "        car_parameters[\"throttle\"] = -1.0\n",
    "        car_parameters[\"steer\"] = -22\n",
    "        car_parameters[\"brake\"] = 0\n",
    "   \n",
    "    else:\n",
    "        car_parameters[\"throttle\"] = 0\n",
    "        car_parameters[\"steer\"] = 0\n",
    "        car_parameters[\"brake\"] = 1\n",
    "    \n",
    "    return car_parameters\n",
    "    \n",
    "import src.simulate as sim\n",
    "sim.run(control)\n"
   ]
  },
  {
   "cell_type": "markdown",
   "metadata": {},
   "source": [
    "# Submitting this Project!\n",
    "Your parallel park function is \"correct\" when:\n",
    "\n",
    "1. Your car doesn't hit any other cars.\n",
    "\n",
    "2. Your car stops completely inside of the right lane.\n",
    "\n",
    "Once you've got it working, it's time to submit. Submit by pressing the `SUBMIT` button at the lower right corner of this page."
   ]
  },
  {
   "cell_type": "code",
   "execution_count": null,
   "metadata": {},
   "outputs": [],
   "source": []
  }
 ],
 "metadata": {
  "kernelspec": {
   "display_name": "Python 3",
   "language": "python",
   "name": "python3"
  },
  "language_info": {
   "codemirror_mode": {
    "name": "ipython",
    "version": 3
   },
   "file_extension": ".py",
   "mimetype": "text/x-python",
   "name": "python",
   "nbconvert_exporter": "python",
   "pygments_lexer": "ipython3",
   "version": "3.6.3"
  }
 },
 "nbformat": 4,
 "nbformat_minor": 2
}
